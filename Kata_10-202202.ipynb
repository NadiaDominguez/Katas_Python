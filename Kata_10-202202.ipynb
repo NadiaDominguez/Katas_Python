{
 "cells": [
  {
   "cell_type": "markdown",
   "metadata": {},
   "source": [
    "# Kata Módulo 10"
   ]
  },
  {
   "cell_type": "code",
   "execution_count": 1,
   "metadata": {},
   "outputs": [
    {
     "ename": "FileNotFoundError",
     "evalue": "[Errno 2] No such file or directory: '/path/to/mars.jpg'",
     "output_type": "error",
     "traceback": [
      "\u001b[0;31m---------------------------------------------------------------------------\u001b[0m",
      "\u001b[0;31mFileNotFoundError\u001b[0m                         Traceback (most recent call last)",
      "\u001b[1;32m/Users/stark/Documents/KatasLaunchX/Modulo10Katas.ipynb Cell 2'\u001b[0m in \u001b[0;36m<module>\u001b[0;34m\u001b[0m\n\u001b[1;32m      <a href='vscode-notebook-cell:/Users/stark/Documents/KatasLaunchX/Modulo10Katas.ipynb#ch0000003?line=0'>1</a>\u001b[0m \u001b[39m#Tracebacks\u001b[39;00m\n\u001b[0;32m----> <a href='vscode-notebook-cell:/Users/stark/Documents/KatasLaunchX/Modulo10Katas.ipynb#ch0000003?line=2'>3</a>\u001b[0m \u001b[39mopen\u001b[39;49m(\u001b[39m\"\u001b[39;49m\u001b[39m/path/to/mars.jpg\u001b[39;49m\u001b[39m\"\u001b[39;49m)\n",
      "\u001b[0;31mFileNotFoundError\u001b[0m: [Errno 2] No such file or directory: '/path/to/mars.jpg'"
     ]
    }
   ],
   "source": [
    "# Replicaremos un error para poder entenderlo. Queremos abrir un archivo que no existe, por lo que nos mostrará el mensaje: FileNotFoundError, junto con un Errno 2, que hace referencia a lo mismo.\n",
    "open(\"/path/to/mars.jpg\")"
   ]
  },
  {
   "cell_type": "code",
   "execution_count": 4,
   "metadata": {},
   "outputs": [
    {
     "name": "stdout",
     "output_type": "stream",
     "text": [
      "¡No se pudo localizar el archivo config.txt!\n"
     ]
    }
   ],
   "source": [
    "# Crearemos otra funcion para que podamos entender mejor el mensaje de error.\n",
    "def main():\n",
    "    try:\n",
    "        configuration = open('config.txt')\n",
    "    except FileNotFoundError:\n",
    "        print(\"No se pudo localizar el archivo config.txt\")\n",
    "\n",
    "\n",
    "if __name__ == '__main__':\n",
    "    main()"
   ]
  },
  {
   "cell_type": "code",
   "execution_count": 5,
   "metadata": {},
   "outputs": [
    {
     "name": "stdout",
     "output_type": "stream",
     "text": [
      "¡No se pudo localizar el archivo config.txt!\n"
     ]
    }
   ],
   "source": [
    "# Probaremos por que detectar todas las excepciones resultaría problemático, con la función:\n",
    "#Nos muestra el mensaje \"Outputs are collapsed\"\n",
    "def main():\n",
    "    try:\n",
    "        configuration = open('config.txt')\n",
    "    except Exception:\n",
    "        print(\"No se pudo localizar el archivo config.txt\")\n",
    "\n",
    "\n",
    "if __name__ == '__main__':\n",
    "    main()"
   ]
  },
  {
   "cell_type": "code",
   "execution_count": 7,
   "metadata": {},
   "outputs": [
    {
     "name": "stdout",
     "output_type": "stream",
     "text": [
      "No se pudo localizar el archivo config.txt\n"
     ]
    }
   ],
   "source": [
    "# Vamos a especificar más de qué error se trata para que podamos así, tomar la mejor decisión para corregirlo.\n",
    "#Ya nos muestra que no pudo localizar el archivo config.txt\n",
    "def main():\n",
    "    try:\n",
    "        configuration = open('config.txt')\n",
    "    except FileNotFoundError:\n",
    "        print(\"No se pudo localizar el archivo config.txt\")\n",
    "    except IsADirectoryError:\n",
    "        print(\"Se localizó el archivo config.txt, no se pudo leer por que es un directorio\")\n",
    "\n",
    "\n",
    "if __name__ == '__main__':\n",
    "    main()"
   ]
  },
  {
   "cell_type": "code",
   "execution_count": 29,
   "metadata": {},
   "outputs": [
    {
     "name": "stdout",
     "output_type": "stream",
     "text": [
      "No se pudo localizar el archivo config.txt\n"
     ]
    }
   ],
   "source": [
    "# Vamos a modificar el codigo para mostrar el detalle de los permisos\n",
    "\n",
    "def main():\n",
    "    try:\n",
    "        configuration = open('config.txt')\n",
    "    except FileNotFoundError:\n",
    "        print(\"No se pudo localizar el archivo config.txt\")\n",
    "    except IsADirectoryError:\n",
    "        print(\"Se localizó el archivo config.txt, no se pudo leer por que es un directorio\")\n",
    "    except (BlockingIOError, TimeoutError):\n",
    "        print(\"Sistema de archivos saturado, no se puede completar la lectura del archivo de configuración\")\n",
    "\n",
    "if __name__ == '__main__':\n",
    "    main()"
   ]
  },
  {
   "cell_type": "code",
   "execution_count": 9,
   "metadata": {},
   "outputs": [
    {
     "name": "stdout",
     "output_type": "stream",
     "text": [
      "Hubo un problema al leer el archivo: [Errno 2] No such file or directory: 'mars.jpg'\n"
     ]
    }
   ],
   "source": [
    "# Ahora añadimos el error\n",
    "\n",
    "try:\n",
    "    open(\"mars.jpg\")\n",
    "except FileNotFoundError as err:\n",
    "    print(\"Hubo un problema al leer el archivo:\", err)"
   ]
  },
  {
   "cell_type": "code",
   "execution_count": 10,
   "metadata": {},
   "outputs": [
    {
     "name": "stdout",
     "output_type": "stream",
     "text": [
      "No se encuentra el archivo config.txt\n"
     ]
    }
   ],
   "source": [
    "# Vamos a distinguir entre errores para que podamos entender mejor\n",
    "try:\n",
    "    open(\"config.txt\")\n",
    "except OSError as err:\n",
    "    if err.errno == 2:\n",
    "        print(\"No se encuentra el archivo config.txt\")\n",
    "    elif err.errno == 13:\n",
    "        print(\"Archivo encontrado. No es posible leerlo\")"
   ]
  },
  {
   "cell_type": "code",
   "execution_count": 16,
   "metadata": {},
   "outputs": [],
   "source": [
    "def agua_restante(astronautas, agua_restante, días_restantes):\n",
    "    consumo_diario = astronautas * 11\n",
    "    consumo_total = consumo_diario * días_restantes\n",
    "    total_agua_restante = agua_restante - consumo_total\n",
    "    return f\"El agua restante después de {días_restantes} días es: {total_agua_restante} litros\""
   ]
  },
  {
   "cell_type": "code",
   "execution_count": 17,
   "metadata": {},
   "outputs": [
    {
     "data": {
      "text/plain": [
       "'El agua restante después de 2 días es: -10 litros'"
      ]
     },
     "execution_count": 17,
     "metadata": {},
     "output_type": "execute_result"
    }
   ],
   "source": [
    "agua_restante(5, 100, 2)"
   ]
  },
  {
   "cell_type": "code",
   "execution_count": 18,
   "metadata": {},
   "outputs": [],
   "source": [
    " \n",
    "def agua_restante1(astronautas, agua_restante, días_restantes):\n",
    "    consumo_diario = astronautas * 11\n",
    "    consumo_total = consumo_diario * días_restantes\n",
    "    total_agua_restante = agua_restante - consumo_total\n",
    "    if total_agua_restante < 0:\n",
    "        raise RuntimeError(f\"No hay agua suficiente para {astronautas} astronautas después de {días_restantes} días\")\n",
    "    return f\"Agua restante después de {días_restantes} días es: {total_agua_restante} litros\""
   ]
  },
  {
   "cell_type": "code",
   "execution_count": 19,
   "metadata": {},
   "outputs": [
    {
     "ename": "RuntimeError",
     "evalue": "No hay agua suficiente para 5 astronautas después de 2 días",
     "output_type": "error",
     "traceback": [
      "\u001b[0;31m---------------------------------------------------------------------------\u001b[0m",
      "\u001b[0;31mRuntimeError\u001b[0m                              Traceback (most recent call last)",
      "\u001b[1;32m/Users/nadiadominguez/LaunchX/Kata_10-202202.ipynb Cell 12'\u001b[0m in \u001b[0;36m<module>\u001b[0;34m\u001b[0m\n\u001b[1;32m      <a href='vscode-notebook-cell:/Users/nadiadominguez/LaunchX/Kata_10-202202.ipynb#ch0000016?line=0'>1</a>\u001b[0m \u001b[39m# Ejecutamos nuevamente\u001b[39;00m\n\u001b[0;32m----> <a href='vscode-notebook-cell:/Users/nadiadominguez/LaunchX/Kata_10-202202.ipynb#ch0000016?line=1'>2</a>\u001b[0m agua_restante1(\u001b[39m5\u001b[39;49m, \u001b[39m100\u001b[39;49m, \u001b[39m2\u001b[39;49m)\n",
      "\u001b[1;32m/Users/nadiadominguez/LaunchX/Kata_10-202202.ipynb Cell 11'\u001b[0m in \u001b[0;36magua_restante1\u001b[0;34m(astronautas, agua_restante, días_restantes)\u001b[0m\n\u001b[1;32m      <a href='vscode-notebook-cell:/Users/nadiadominguez/LaunchX/Kata_10-202202.ipynb#ch0000015?line=4'>5</a>\u001b[0m total_agua_restante \u001b[39m=\u001b[39m agua_restante \u001b[39m-\u001b[39m consumo_total\n\u001b[1;32m      <a href='vscode-notebook-cell:/Users/nadiadominguez/LaunchX/Kata_10-202202.ipynb#ch0000015?line=5'>6</a>\u001b[0m \u001b[39mif\u001b[39;00m total_agua_restante \u001b[39m<\u001b[39m \u001b[39m0\u001b[39m:\n\u001b[0;32m----> <a href='vscode-notebook-cell:/Users/nadiadominguez/LaunchX/Kata_10-202202.ipynb#ch0000015?line=6'>7</a>\u001b[0m     \u001b[39mraise\u001b[39;00m \u001b[39mRuntimeError\u001b[39;00m(\u001b[39mf\u001b[39m\u001b[39m\"\u001b[39m\u001b[39mNo hay agua suficiente para \u001b[39m\u001b[39m{\u001b[39;00mastronautas\u001b[39m}\u001b[39;00m\u001b[39m astronautas después de \u001b[39m\u001b[39m{\u001b[39;00mdías_restantes\u001b[39m}\u001b[39;00m\u001b[39m días\u001b[39m\u001b[39m\"\u001b[39m)\n\u001b[1;32m      <a href='vscode-notebook-cell:/Users/nadiadominguez/LaunchX/Kata_10-202202.ipynb#ch0000015?line=7'>8</a>\u001b[0m \u001b[39mreturn\u001b[39;00m \u001b[39mf\u001b[39m\u001b[39m\"\u001b[39m\u001b[39mAgua restante después de \u001b[39m\u001b[39m{\u001b[39;00mdías_restantes\u001b[39m}\u001b[39;00m\u001b[39m días es: \u001b[39m\u001b[39m{\u001b[39;00mtotal_agua_restante\u001b[39m}\u001b[39;00m\u001b[39m litros\u001b[39m\u001b[39m\"\u001b[39m\n",
      "\u001b[0;31mRuntimeError\u001b[0m: No hay agua suficiente para 5 astronautas después de 2 días"
     ]
    }
   ],
   "source": [
    "\n",
    "agua_restante1(5, 100, 2)"
   ]
  },
  {
   "cell_type": "code",
   "execution_count": 20,
   "metadata": {},
   "outputs": [
    {
     "name": "stdout",
     "output_type": "stream",
     "text": [
      "Se encontro el siguiente fallo: No hay agua suficiente para 5 astronautas después de 2 días\n"
     ]
    }
   ],
   "source": [
    "# Modificamos la execucion y añadimos el try para obtener mejor el dato del error\n",
    "\n",
    "def alert_navigation_system(error):\n",
    "    print(\"Se encontro el siguiente fallo: \" + str(error))\n",
    "\n",
    "try:\n",
    "    agua_restante1(5, 100, 2)\n",
    "except RuntimeError as err:\n",
    "    alert_navigation_system(err)"
   ]
  },
  {
   "cell_type": "code",
   "execution_count": 23,
   "metadata": {},
   "outputs": [
    {
     "ename": "TypeError",
     "evalue": "can't multiply sequence by non-int of type 'NoneType'",
     "output_type": "error",
     "traceback": [
      "\u001b[0;31m---------------------------------------------------------------------------\u001b[0m",
      "\u001b[0;31mTypeError\u001b[0m                                 Traceback (most recent call last)",
      "\u001b[1;32m/Users/nadiadominguez/LaunchX/Kata_10-202202.ipynb Cell 14'\u001b[0m in \u001b[0;36m<module>\u001b[0;34m\u001b[0m\n\u001b[0;32m----> <a href='vscode-notebook-cell:/Users/nadiadominguez/LaunchX/Kata_10-202202.ipynb#ch0000018?line=0'>1</a>\u001b[0m agua_restante(\u001b[39m\"\u001b[39;49m\u001b[39m3\u001b[39;49m\u001b[39m\"\u001b[39;49m, \u001b[39m\"\u001b[39;49m\u001b[39m200\u001b[39;49m\u001b[39m\"\u001b[39;49m, \u001b[39mNone\u001b[39;49;00m)\n",
      "\u001b[1;32m/Users/nadiadominguez/LaunchX/Kata_10-202202.ipynb Cell 9'\u001b[0m in \u001b[0;36magua_restante\u001b[0;34m(astronautas, agua_restante, días_restantes)\u001b[0m\n\u001b[1;32m      <a href='vscode-notebook-cell:/Users/nadiadominguez/LaunchX/Kata_10-202202.ipynb#ch0000013?line=0'>1</a>\u001b[0m \u001b[39mdef\u001b[39;00m \u001b[39magua_restante\u001b[39m(astronautas, agua_restante, días_restantes):\n\u001b[1;32m      <a href='vscode-notebook-cell:/Users/nadiadominguez/LaunchX/Kata_10-202202.ipynb#ch0000013?line=1'>2</a>\u001b[0m     consumo_diario \u001b[39m=\u001b[39m astronautas \u001b[39m*\u001b[39m \u001b[39m11\u001b[39m\n\u001b[0;32m----> <a href='vscode-notebook-cell:/Users/nadiadominguez/LaunchX/Kata_10-202202.ipynb#ch0000013?line=2'>3</a>\u001b[0m     consumo_total \u001b[39m=\u001b[39m consumo_diario \u001b[39m*\u001b[39;49m días_restantes\n\u001b[1;32m      <a href='vscode-notebook-cell:/Users/nadiadominguez/LaunchX/Kata_10-202202.ipynb#ch0000013?line=3'>4</a>\u001b[0m     total_agua_restante \u001b[39m=\u001b[39m agua_restante \u001b[39m-\u001b[39m consumo_total\n\u001b[1;32m      <a href='vscode-notebook-cell:/Users/nadiadominguez/LaunchX/Kata_10-202202.ipynb#ch0000013?line=4'>5</a>\u001b[0m     \u001b[39mreturn\u001b[39;00m \u001b[39mf\u001b[39m\u001b[39m\"\u001b[39m\u001b[39mEl agua restante después de \u001b[39m\u001b[39m{\u001b[39;00mdías_restantes\u001b[39m}\u001b[39;00m\u001b[39m días es: \u001b[39m\u001b[39m{\u001b[39;00mtotal_agua_restante\u001b[39m}\u001b[39;00m\u001b[39m litros\u001b[39m\u001b[39m\"\u001b[39m\n",
      "\u001b[0;31mTypeError\u001b[0m: can't multiply sequence by non-int of type 'NoneType'"
     ]
    }
   ],
   "source": [
    "agua_restante(\"3\", \"200\", None)"
   ]
  },
  {
   "cell_type": "code",
   "execution_count": 27,
   "metadata": {},
   "outputs": [],
   "source": [
    "# Agregamos la nueva deteccion de este parametro desconocido\n",
    "\n",
    "def agua_restante3(astronautas, agua_restante, días_restantes):\n",
    "    for argument in [astronautas, agua_restante, días_restantes]:\n",
    "        try:\n",
    "            # Si el argumento no es int, la siguiente operacion debe funcionar\n",
    "            argument / 10\n",
    "        except TypeError:\n",
    "            raise TypeError(f\"Todos los argumentos deben ser int, pero se recibió: {argument}\")\n",
    "    consumo_diario = astronautas * 11\n",
    "    consumo_diario = consumo_diario * días_restantes\n",
    "    total_agua_restante = agua_restante - consumo_diario\n",
    "    if total_agua_restante < 0:\n",
    "        raise RuntimeError(f\"No hay agua suficiente para {astronautas} astronautas después de {días_restantes} dias\")\n",
    "    return f\"Agua restante después de {días_restantes} días es: {total_agua_restante} litros\""
   ]
  },
  {
   "cell_type": "code",
   "execution_count": 28,
   "metadata": {},
   "outputs": [
    {
     "ename": "TypeError",
     "evalue": "Todos los argumentos deben ser int, pero se recibió: 3",
     "output_type": "error",
     "traceback": [
      "\u001b[0;31m---------------------------------------------------------------------------\u001b[0m",
      "\u001b[0;31mTypeError\u001b[0m                                 Traceback (most recent call last)",
      "\u001b[1;32m/Users/nadiadominguez/LaunchX/Kata_10-202202.ipynb Cell 15'\u001b[0m in \u001b[0;36magua_restante3\u001b[0;34m(astronautas, agua_restante, días_restantes)\u001b[0m\n\u001b[1;32m      <a href='vscode-notebook-cell:/Users/nadiadominguez/LaunchX/Kata_10-202202.ipynb#ch0000019?line=4'>5</a>\u001b[0m \u001b[39mtry\u001b[39;00m:\n\u001b[1;32m      <a href='vscode-notebook-cell:/Users/nadiadominguez/LaunchX/Kata_10-202202.ipynb#ch0000019?line=5'>6</a>\u001b[0m     \u001b[39m# Si el argumento no es int, la siguiente operacion debe funcionar\u001b[39;00m\n\u001b[0;32m----> <a href='vscode-notebook-cell:/Users/nadiadominguez/LaunchX/Kata_10-202202.ipynb#ch0000019?line=6'>7</a>\u001b[0m     argument \u001b[39m/\u001b[39;49m \u001b[39m10\u001b[39;49m\n\u001b[1;32m      <a href='vscode-notebook-cell:/Users/nadiadominguez/LaunchX/Kata_10-202202.ipynb#ch0000019?line=7'>8</a>\u001b[0m \u001b[39mexcept\u001b[39;00m \u001b[39mTypeError\u001b[39;00m:\n",
      "\u001b[0;31mTypeError\u001b[0m: unsupported operand type(s) for /: 'str' and 'int'",
      "\nDuring handling of the above exception, another exception occurred:\n",
      "\u001b[0;31mTypeError\u001b[0m                                 Traceback (most recent call last)",
      "\u001b[1;32m/Users/nadiadominguez/LaunchX/Kata_10-202202.ipynb Cell 16'\u001b[0m in \u001b[0;36m<module>\u001b[0;34m\u001b[0m\n\u001b[1;32m      <a href='vscode-notebook-cell:/Users/nadiadominguez/LaunchX/Kata_10-202202.ipynb#ch0000020?line=0'>1</a>\u001b[0m \u001b[39m# Invocamos nuevamente la funcion\u001b[39;00m\n\u001b[0;32m----> <a href='vscode-notebook-cell:/Users/nadiadominguez/LaunchX/Kata_10-202202.ipynb#ch0000020?line=2'>3</a>\u001b[0m agua_restante3(\u001b[39m\"\u001b[39;49m\u001b[39m3\u001b[39;49m\u001b[39m\"\u001b[39;49m, \u001b[39m\"\u001b[39;49m\u001b[39m200\u001b[39;49m\u001b[39m\"\u001b[39;49m, \u001b[39mNone\u001b[39;49;00m)\n",
      "\u001b[1;32m/Users/nadiadominguez/LaunchX/Kata_10-202202.ipynb Cell 15'\u001b[0m in \u001b[0;36magua_restante3\u001b[0;34m(astronautas, agua_restante, días_restantes)\u001b[0m\n\u001b[1;32m      <a href='vscode-notebook-cell:/Users/nadiadominguez/LaunchX/Kata_10-202202.ipynb#ch0000019?line=6'>7</a>\u001b[0m         argument \u001b[39m/\u001b[39m \u001b[39m10\u001b[39m\n\u001b[1;32m      <a href='vscode-notebook-cell:/Users/nadiadominguez/LaunchX/Kata_10-202202.ipynb#ch0000019?line=7'>8</a>\u001b[0m     \u001b[39mexcept\u001b[39;00m \u001b[39mTypeError\u001b[39;00m:\n\u001b[0;32m----> <a href='vscode-notebook-cell:/Users/nadiadominguez/LaunchX/Kata_10-202202.ipynb#ch0000019?line=8'>9</a>\u001b[0m         \u001b[39mraise\u001b[39;00m \u001b[39mTypeError\u001b[39;00m(\u001b[39mf\u001b[39m\u001b[39m\"\u001b[39m\u001b[39mTodos los argumentos deben ser int, pero se recibió: \u001b[39m\u001b[39m{\u001b[39;00margument\u001b[39m}\u001b[39;00m\u001b[39m\"\u001b[39m)\n\u001b[1;32m     <a href='vscode-notebook-cell:/Users/nadiadominguez/LaunchX/Kata_10-202202.ipynb#ch0000019?line=9'>10</a>\u001b[0m consumo_diario \u001b[39m=\u001b[39m astronautas \u001b[39m*\u001b[39m \u001b[39m11\u001b[39m\n\u001b[1;32m     <a href='vscode-notebook-cell:/Users/nadiadominguez/LaunchX/Kata_10-202202.ipynb#ch0000019?line=10'>11</a>\u001b[0m consumo_diario \u001b[39m=\u001b[39m consumo_diario \u001b[39m*\u001b[39m días_restantes\n",
      "\u001b[0;31mTypeError\u001b[0m: Todos los argumentos deben ser int, pero se recibió: 3"
     ]
    }
   ],
   "source": [
    "# Invocamos nuevamente la funcion\n",
    "\n",
    "agua_restante3(\"3\", \"200\", None)"
   ]
  }
 ],
 "metadata": {
  "interpreter": {
   "hash": "31f2aee4e71d21fbe5cf8b01ff0e069b9275f58929596ceb00d14d90e3e16cd6"
  },
  "kernelspec": {
   "display_name": "Python 3.8.9 64-bit",
   "language": "python",
   "name": "python3"
  },
  "language_info": {
   "codemirror_mode": {
    "name": "ipython",
    "version": 3
   },
   "file_extension": ".py",
   "mimetype": "text/x-python",
   "name": "python",
   "nbconvert_exporter": "python",
   "pygments_lexer": "ipython3",
   "version": "3.8.9"
  },
  "orig_nbformat": 4
 },
 "nbformat": 4,
 "nbformat_minor": 2
}
