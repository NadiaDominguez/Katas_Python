{
  "cells": [
    {
      "cell_type": "markdown",
      "metadata": {},
      "source": [
        "# Kata Módulo 4"
      ]
    },
    {
      "cell_type": "code",
      "execution_count": 8,
      "metadata": {},
      "outputs": [
        {
          "data": {
            "text/plain": [
              "['Interesting facts about the Moon',\n",
              " \"The Moon is Earth's only satellite\",\n",
              " 'There are several interesting facts about the Moon and how it affects life here on Earth',\n",
              " 'On average, the Moon moves 4cm away from the Earth every year',\n",
              " 'This yearly drift is not significant enough to cause immediate effects on Earth',\n",
              " 'The highest daylight temperature of the Moon is 127 C.']"
            ]
          },
          "execution_count": 8,
          "metadata": {},
          "output_type": "execute_result"
        }
      ],
      "source": [
        "#Introducimos una variable que contenga todo el texto. \n",
        "texto_completo = \"\"\"Interesting facts about the Moon. The Moon is Earth's only satellite. There are several interesting facts about the Moon and how it affects life here on Earth. On average, the Moon moves 4cm away from the Earth every year. This yearly drift is not significant enough to cause immediate effects on Earth. The highest daylight temperature of the Moon is 127 C.\"\"\"\n",
        "\n",
        "#Indicamos al programa que separe cada oración y que nos lo muestre.\n",
        "\n",
        "texto_dividido = texto_completo.split('. ')\n",
        "texto_dividido"
      ]
    },
    {
      "cell_type": "code",
      "execution_count": 22,
      "metadata": {},
      "outputs": [],
      "source": [
        "#Agregamos palabras clave para localizar cada oración, dependiendo de su contenido. Utilizaremos estas palabras en inglés, ya que el párrafo está escrito de esa forma.\n",
        "palabras_clave = [\"average\", \"temperature\", \"distance\", \"C\"]"
      ]
    },
    {
      "cell_type": "code",
      "execution_count": 30,
      "metadata": {},
      "outputs": [
        {
          "name": "stdout",
          "output_type": "stream",
          "text": [
            "On average, the Moon moves 4cm away from the Earth every year\n",
            "The highest daylight temperature of the Moon is 127 C.\n"
          ]
        }
      ],
      "source": [
        "#Ejecutamos un programa para que recorra toda la cadena y nos señale las oraciones que contienen alguna de las palabras clave que hemos definido previamente.\n",
        "for oración in texto_dividido:\n",
        "    for key_word in key_words:\n",
        "        if key_word in oración:\n",
        "            print(oración)\n",
        "            break"
      ]
    },
    {
      "cell_type": "code",
      "execution_count": 31,
      "metadata": {},
      "outputs": [
        {
          "name": "stdout",
          "output_type": "stream",
          "text": [
            "On average, the Moon moves 4cm away from the Earth every year\n",
            "The highest daylight temperature of the Moon is 127 Celsius.\n"
          ]
        }
      ],
      "source": [
        "#Ahora, tenemos que encontrar dentro de la cadena y reemplazar la C por Celsius. Este nos mostrará de nuevo, aquellas oraciones que contienen las palabras clave, además de cambiar la palabra Celsius\n",
        "\n",
        "for oración in texto_dividido:\n",
        "    for key_word in key_words:\n",
        "        if key_word in oración:\n",
        "            print(oración.replace(' C', ' Celsius'))"
      ]
    },
    {
      "cell_type": "code",
      "execution_count": 54,
      "metadata": {},
      "outputs": [
        {
          "name": "stdout",
          "output_type": "stream",
          "text": [
            "Gravity Facts About Ganymede\n",
            "-------------------------------------------------------------------------------- \n",
            "Nombre del planeta: Tierra \n",
            "Gravedad en Luna: 1.6199999999999999 m/s2 \n",
            "\n",
            "-------------------------------------------------------------------------------- \n",
            "Nombre del planeta: Tierra \n",
            "Gravedad en Luna: 1.6199999999999999 m/s2 \n",
            "\n",
            "\n",
            "Datos de Gravedad sobre: Ganímedes\n",
            "-------------------------------------------------------------------------------\n",
            "Nombre del planeta: Marte\n",
            "Gravedad en Ganímedes: 1.4300000000000002 m/s2\n",
            "\n"
          ]
        }
      ],
      "source": [
        "#Lograr que la cadena se vea de la siguiente forma:\n",
        "#Gravity Facts about Ganymede\n",
        "#-------------------------------------------------------------------------------\n",
        "#Planet Name: Mars\n",
        "#Gravity on Ganymede: 1.4300000000000002 m/s2\n",
        "\n",
        "#Definimos nuestras variables:\n",
        "\n",
        "#str\n",
        "nombre = \"Luna\"\n",
        "planeta = \"Tierra\"\n",
        "#float en km\n",
        "gravedad = 0.00162\n",
        "\n",
        "#Creamos un título usando una variable para definirlo\n",
        "\n",
        "título = \"Gravity Facts about Ganymede\"\n",
        "\n",
        "#Creamos una platilla de cadena multilínea y convertimos los kilómetros a metros.\n",
        "\n",
        "#Hacemos la conversión primero, tenemos que multiplicar la gravedad por 1000, ya que es la equivalencia a metros.\n",
        "\n",
        "información = f\"\"\"{'-'*80} \n",
        "Nombre del planeta: {planeta} \n",
        "Gravedad en {nombre}: {gravedad * 1000} m/s2 \n",
        "\"\"\"\n",
        "\n",
        "#Unimos el título y los hechos (información).\n",
        "\n",
        "plantilla = f\"\"\"{título.title()}\n",
        "{información}\"\"\" \n",
        "print(plantilla)\n",
        "\n",
        "#Agregamos nuevos datos a las variables\n",
        "nombre = \"Ganímedes\"\n",
        "planeta = \"Marte\"\n",
        "#float en km\n",
        "gravedad = 0.00143\n",
        "\n",
        "#comprobamos el nombre de la plantilla (Muestra los datos de la Luna)\n",
        "print(información)\n",
        "\n",
        "#Tenemos que cambiar la pantilla para que tome los datos de la segunda muestra y los cambie. Así que indicamos que se va a usar el texto que ya nos imprime en consola\"\n",
        "\n",
        "plantilla_2 = \"\"\"\n",
        "Datos de Gravedad sobre: {nombre}\n",
        "-------------------------------------------------------------------------------\n",
        "Nombre del planeta: {planeta}\n",
        "Gravedad en {nombre}: {gravedad} m/s2\n",
        "\"\"\"\n",
        "print(plantilla_2.format(nombre=nombre, planeta=planeta, gravedad=gravedad*1000))\n",
        "\n",
        "\n",
        "\n"
      ]
    }
  ],
  "metadata": {
    "interpreter": {
      "hash": "35680aae57335be05acf6536fceeb5eddd530533c5345fa1b0b95c0a9ad62ce9"
    },
    "kernelspec": {
      "display_name": "Python 3.9.10 ('env': venv)",
      "language": "python",
      "name": "python3"
    },
    "language_info": {
      "codemirror_mode": {
        "name": "ipython",
        "version": 3
      },
      "file_extension": ".py",
      "mimetype": "text/x-python",
      "name": "python",
      "nbconvert_exporter": "python",
      "pygments_lexer": "ipython3",
      "version": "3.9.10"
    },
    "orig_nbformat": 4
  },
  "nbformat": 4,
  "nbformat_minor": 2
}
