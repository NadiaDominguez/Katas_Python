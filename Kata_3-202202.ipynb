{
 "cells": [
  {
   "cell_type": "markdown",
   "metadata": {},
   "source": [
    "# Kata Módulo 3"
   ]
  },
  {
   "cell_type": "code",
   "execution_count": 2,
   "metadata": {},
   "outputs": [
    {
     "name": "stdout",
     "output_type": "stream",
     "text": [
      "¡Cuidado! Se acerca un asteroide a una velocidad peligrosa\n"
     ]
    }
   ],
   "source": [
    "#Añadimos una variable para guardar la velocidad del asteroide\n",
    "Velocidad_de_asteroide = 49\n",
    "\n",
    "#Ejecutamos una función condicional para saber si viaja a una velocidad peligrosa y así mandar el mensaje adecuado.\n",
    "\n",
    "if Velocidad_de_asteroide > 25:\n",
    "    print (\"¡Cuidado! Se acerca un asteroide a una velocidad peligrosa\")\n",
    "if Velocidad_de_asteroide <= 25:\n",
    "    print (\"No se han detectado objetos peligrosos para la Tierra\")"
   ]
  },
  {
   "cell_type": "code",
   "execution_count": 1,
   "metadata": {},
   "outputs": [
    {
     "name": "stdout",
     "output_type": "stream",
     "text": [
      "No se han detectado meteoritos cerca\n"
     ]
    }
   ],
   "source": [
    "#Añadimos una variable para guardar la velocidad del asteroide (Será el asteroide 2)\n",
    "Velocidad_de_asteroide_2 = 19\n",
    "\n",
    "#Ejecutamos varias expresiones para determinar si  se puede ver (se ve si la V es mayor o igual a 20)\n",
    "\n",
    "#if Velocidad_de_asteroide_2 >= 20:\n",
    "#    print (\"Mantente atento, podrías ver un meteorito pasar\")\n",
    "\n",
    "if Velocidad_de_asteroide_2 > 20:\n",
    "    print (\"Mantente atento, podrías ver un meteorito pasar\")\n",
    "#Para poder usar en este ejemplo un \"elif\" vamos a agregar otra condición en donde considere si la Velocidad de nuestro meteorito 2, es igual a 20\n",
    "elif Velocidad_de_asteroide_2 == 20:\n",
    "    print (\"Mantente atento, podrías ver un meteorito pasar\")\n",
    "else:\n",
    "    print (\"No se han detectado meteoritos cerca\")"
   ]
  },
  {
   "cell_type": "code",
   "execution_count": 14,
   "metadata": {},
   "outputs": [
    {
     "name": "stdout",
     "output_type": "stream",
     "text": [
      "Sin amenazas o meteoritos por ver\n"
     ]
    }
   ],
   "source": [
    "#Añadimos las dos variables con las que trabajaremos, donde el usuario tendrá que insertar los valores, para hacer los cálculos; así también podremos probar las diferentes condiciones y sus mensajes respectivos. Como ponemos un input, los valores por defecto los agregará como strings, así que debemos convertirlos a int, ya que se trabajaran con números enteros en el ejemplo.\n",
    "#(Será el asteroide 3)\n",
    "Velocidad_de_asteroide_3 = int(input(\"Inserte la Velocidad del asteroide\"))\n",
    "Tamaño_de_asteroide = int(input(\"Inserte el Tamaño del asteroide\"))\n",
    "\n",
    "#Creamos las expresiones condicionales para dar el mensaje adecuado, dependiendo de los diferentes factores.\n",
    "\n",
    "#Primero, los datos peligrosos, pueden ser asteroides con una V > 25km/h o con un Tamaño > 25 m\n",
    "#Creamos dos concidiciones donde una será más peligrosa que la otra.\n",
    "\n",
    "if Velocidad_de_asteroide_3 > 25 and Tamaño_de_asteroide > 25:\n",
    "    print(\"¡Peligro inminente! Se acerca un asteroide que puede causar daños irreversibles a la Tierra\")\n",
    "\n",
    "elif Velocidad_de_asteroide_3 > 25 or Tamaño_de_asteroide > 25:\n",
    "    print(\"¡Peligro! Se acerca un asteroide que puede causar muchos daños\")\n",
    "\n",
    "#SI LA CONDICIÓN ANTERIOR NO SE CUMPLE, pero un asteroide tiene una velocidad mayor o igual a 20 km/h y entra a la superficie (deja de ser asteroide para convertirse en meteorito) y se podrá ver desde la Tierra\n",
    "\n",
    "elif Velocidad_de_asteroide_3 >= 20:\n",
    "    print(\"¡Mantente atento! Podrías ver un meteorito\")\n",
    "\n",
    "#SI NINGUNA DE LAS CONDICIONES ANTERIORES SE CUMPLE\n",
    "else:\n",
    "    print(\"Sin amenazas o meteoritos por ver\")"
   ]
  }
 ],
 "metadata": {
  "interpreter": {
   "hash": "b0fa6594d8f4cbf19f97940f81e996739fb7646882a419484c72d19e05852a7e"
  },
  "kernelspec": {
   "display_name": "Python 3.9.10 64-bit",
   "language": "python",
   "name": "python3"
  },
  "language_info": {
   "codemirror_mode": {
    "name": "ipython",
    "version": 3
   },
   "file_extension": ".py",
   "mimetype": "text/x-python",
   "name": "python",
   "nbconvert_exporter": "python",
   "pygments_lexer": "ipython3",
   "version": "3.9.10"
  },
  "orig_nbformat": 4
 },
 "nbformat": 4,
 "nbformat_minor": 2
}
