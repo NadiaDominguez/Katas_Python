{
 "cells": [
  {
   "cell_type": "markdown",
   "metadata": {},
   "source": [
    "# Kata Modulo 1\n"
   ]
  },
  {
   "cell_type": "code",
   "execution_count": 1,
   "metadata": {},
   "outputs": [
    {
     "name": "stdout",
     "output_type": "stream",
     "text": [
      "Today's date is: 2022-02-12\n"
     ]
    }
   ],
   "source": [
    "from datetime import date #sin esta linea, no funciona la de abajo; primero hay que importar la fecha.\n",
    "print(\"La fecha de hoy es: \" + str(date.today()))"
   ]
  },
  {
   "cell_type": "code",
   "execution_count": 29,
   "metadata": {},
   "outputs": [
    {
     "name": "stdout",
     "output_type": "stream",
     "text": [
      "11.0 parsec, equivalen a 35.877159999999996 años luz\n",
      "11.0 parsec, equivalen a 35.877159999999996 años luz\n"
     ]
    }
   ],
   "source": [
    "#Programar un convertidor de unidades. Queremos saber a cuántos años luz equivale la cantidad de parsecs deseados.\n",
    "#Tendremos que asignar un valor a \"parsec\", mismo valor que convertiremos.\n",
    "parsec = float(input(\"Introduzca el número de parsec a convertir: \"))\n",
    "\n",
    "#Hacemos un cálculo de años luz. (el valor de un año luz por el número de parsecs que se introdujo anteriormente)\n",
    "años_luz = 3.26156 * parsec\n",
    "\n",
    "#Mostramos el resultado en consola, convirtiendo los valores de parsec y años luz a strings:\n",
    "\n",
    "print(str(parsec) + \" parsec, equivalen a \" + str(años_luz) + \" años luz\")\n",
    "\n",
    "#Podemos simplificarlo más, con la siguiente línea, la cual convierte todo a un string en vez de convertir cada valor y concatenar.\n",
    "print(f'{parsec} parsec, equivalen a {años_luz} años luz')"
   ]
  }
 ],
 "metadata": {
  "interpreter": {
   "hash": "b0fa6594d8f4cbf19f97940f81e996739fb7646882a419484c72d19e05852a7e"
  },
  "kernelspec": {
   "display_name": "Python 3.9.10 64-bit",
   "language": "python",
   "name": "python3"
  },
  "language_info": {
   "codemirror_mode": {
    "name": "ipython",
    "version": 3
   },
   "file_extension": ".py",
   "mimetype": "text/x-python",
   "name": "python",
   "nbconvert_exporter": "python",
   "pygments_lexer": "ipython3",
   "version": "3.9.10"
  },
  "orig_nbformat": 4
 },
 "nbformat": 4,
 "nbformat_minor": 2
}
