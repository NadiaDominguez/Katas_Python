{
 "cells": [
  {
   "cell_type": "markdown",
   "metadata": {},
   "source": [
    "# Kata Módulo 8"
   ]
  },
  {
   "cell_type": "code",
   "execution_count": 8,
   "metadata": {},
   "outputs": [
    {
     "name": "stdout",
     "output_type": "stream",
     "text": [
      "Marte tiene 2 lunas\n",
      "Marte tiene una circunferencia polar de 6752\n"
     ]
    }
   ],
   "source": [
    "# Creamos un diccionario para almacenar información del planeta Marte, la información será el número de Lunas\n",
    "\n",
    "planeta = {\n",
    "    'name': 'Marte',\n",
    "    'moons': 2\n",
    "}\n",
    "\n",
    "# Mostramos la información introducida, en la consola. Ya que se puede mostrar usando dos métodos, usaré ambos como ejercicio.\n",
    "\n",
    "print(f'{planeta.get(\"name\")} tiene {planeta[\"moons\"]} lunas')\n",
    "\n",
    "# Queremos agregar nuevos datos a los que ya habíamos introducido, por lo que utilizamos un método update. En este caso, usaremos los corchetes.\n",
    "\n",
    "planeta['circunferencia (km)'] = {\n",
    "    'polar': 6752,\n",
    "    'ecuatorial': 6792\n",
    "}\n",
    "\n",
    "# Ahora queremos mostrar que los nuevos datos se guardaron de forma adicional. Así que imprimiremos en consola el dato de la circunferencia polar.\n",
    "\n",
    "print(f'{planeta.get(\"name\")} tiene una circunferencia polar de {planeta[\"circunferencia (km)\"][\"polar\"]}')"
   ]
  },
  {
   "cell_type": "code",
   "execution_count": 26,
   "metadata": {},
   "outputs": [
    {
     "name": "stdout",
     "output_type": "stream",
     "text": [
      "Hay 12 planetas en el Sistema Solar.\n",
      "Y existen en él, un total de 214 lunas.\n",
      "El promedio de lunas por planeta en el Sistema Solar es de 17.833333333333332.\n"
     ]
    }
   ],
   "source": [
    "#Queremos calcular ahora el número total de lunas en el sistema solar y el promedio que tiene un planeta.\n",
    "#Primero añadimos una lista con los planetas y el número de lunas que tiene cada uno.\n",
    "\n",
    "lunas_de_planetas = {\n",
    "    'Mercurio': 0,\n",
    "    'Venus': 0,\n",
    "    'Tierra': 1,\n",
    "    'Marte': 2,\n",
    "    'Jupiter': 79,\n",
    "    'Saturno': 82,\n",
    "    'Urano': 27,\n",
    "    'Neptuno': 14,\n",
    "    'Plutón': 5,\n",
    "    'Haumea': 2,\n",
    "    'Makemake': 1,\n",
    "    'Eris': 1\n",
    "}\n",
    "\n",
    "#Tenemos que crear una variable que contenga el número de lunas\n",
    "lunas = lunas_de_planetas.values()\n",
    "\n",
    "#Agregamos otra variable que nos dé el número de planetas. Por lo que para esto, podríamos calcular la longitud de la lista usando len\n",
    "planetas = len(lunas_de_planetas.keys())\n",
    "\n",
    "#Imprimimos en consola el número de planetas que hay en la lista.\n",
    "print(f'Hay {planetas} planetas en el Sistema Solar.')\n",
    "\n",
    "#Ahora sí, tenemos las variables necesarias para poder calcular el número total de lunas\n",
    "\n",
    "lunas_totales = 0\n",
    "for luna in lunas:\n",
    "    lunas_totales = lunas_totales + luna\n",
    "\n",
    "#confirmamos que el código  esté bien e imprimimos en consola el número de lunas totales.\n",
    "print(\"Y existen en él, un total de \" + str(lunas_totales) + \" lunas.\")\n",
    "\n",
    "#Confirmado que funcionó, disponemos entonces a calcular el promedio de lunas por planeta. Este se calcularía dividiendo \"lunas_totales\" entre \"planetas\"\n",
    "\n",
    "promedio_lunas = lunas_totales / planetas\n",
    "\n",
    "#imprimos en consola el Promedio de lunas\n",
    "\n",
    "print(f'El promedio de lunas por planeta en el Sistema Solar es de {promedio_lunas}.')"
   ]
  }
 ],
 "metadata": {
  "interpreter": {
   "hash": "31f2aee4e71d21fbe5cf8b01ff0e069b9275f58929596ceb00d14d90e3e16cd6"
  },
  "kernelspec": {
   "display_name": "Python 3.8.9 64-bit",
   "language": "python",
   "name": "python3"
  },
  "language_info": {
   "codemirror_mode": {
    "name": "ipython",
    "version": 3
   },
   "file_extension": ".py",
   "mimetype": "text/x-python",
   "name": "python",
   "nbconvert_exporter": "python",
   "pygments_lexer": "ipython3",
   "version": "3.8.9"
  },
  "orig_nbformat": 4
 },
 "nbformat": 4,
 "nbformat_minor": 2
}
