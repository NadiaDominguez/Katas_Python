{
 "cells": [
  {
   "cell_type": "markdown",
   "metadata": {},
   "source": [
    "# Kata Módulo 6"
   ]
  },
  {
   "cell_type": "code",
   "execution_count": 1,
   "metadata": {},
   "outputs": [
    {
     "name": "stdout",
     "output_type": "stream",
     "text": [
      "Existen 8 planetas\n"
     ]
    }
   ],
   "source": [
    "#Agregamos la variable \"plantes\" y añadimos a ella, una lisgta de los planetas, de Mercurio a Neptuno (Plutón ya no es un planeta jojojo)\n",
    "planets = ['Mercurio', 'Venus', 'Tierra', 'Marte', 'Jupiter', 'Saturno', 'Urano', 'Neptuno']\n",
    "\n",
    "#Imprimimos en consola el mensaje \"existen ___ planetas\" donde mostrará la longitud de la lista\n",
    "print('Existen', len(planets), 'planetas')"
   ]
  },
  {
   "cell_type": "code",
   "execution_count": 3,
   "metadata": {},
   "outputs": [
    {
     "name": "stdout",
     "output_type": "stream",
     "text": [
      "Ahora existen 10 planetas\n",
      "Plutón es el último planeta\n"
     ]
    }
   ],
   "source": [
    "#queremos añadir un planeta más (mas bien planeta enano...) utilizando el código \"append\"\n",
    "planets.append('Plutón')\n",
    "\n",
    "#Volvemos a imprimir en consola la longitud de planetas, para confirmar el número actual\n",
    "\n",
    "print('Ahora existen', len(planets), 'planetas')\n",
    "\n",
    "#E imprimimos el nombre del último planeta en la lista (que debería de ser...Plutón) por lo que queremos el \"índice\" -1, que es el que indica el último puesto de la lista.\n",
    "print(planets[-1], 'es el último planeta')"
   ]
  },
  {
   "cell_type": "code",
   "execution_count": 20,
   "metadata": {},
   "outputs": [
    {
     "name": "stdout",
     "output_type": "stream",
     "text": [
      "Se eligió el planeta número 3\n",
      "Es el planeta Marte\n",
      "Los planetas que más lejos están del Sol que Marte son: \n",
      "['Mercurio', 'Venus', 'Tierra']\n",
      "Los planetas que más cerca están al Sol que Marte son: \n",
      "['Jupiter', 'Saturno', 'Urano', 'Neptuno']\n"
     ]
    }
   ],
   "source": [
    "#Creamos de nuevo nuestra lista de planetas\n",
    "planets = ['Mercurio', 'Venus', 'Tierra', 'Marte', 'Jupiter', 'Saturno', 'Urano', 'Neptuno']\n",
    "\n",
    "#Queremos elegir un planeta para que se realice una accion más tarde, así que pedimos que se ingrese el nombre de un planeta (Con mayus al principio, para que se pueda identificar)\n",
    "seleccion_planeta = input('Introduzca el nombre de un planeta. Escríbelo con Mayúscula al principio.)')\n",
    "planet_index = planets.index(seleccion_planeta)\n",
    "\n",
    "#Compruebo que el código anterior funcione, imprimiendo la selección que hice. Por lo que me regresará el índice que tenga el planeta que elegí. Tengo que convertir el valor en un string. \n",
    "#Los valores van del 0 al 7 y posteriormente el nombre.\n",
    "print('Se eligió el planeta número ' + str(planet_index))\n",
    "print('Es el planeta ' + (planets[planet_index]))\n",
    "\n",
    "#Ahora vamos a enlistar los planetas que se encuentran más cerca y más lejos al Sol, que el planeta que elegí.\n",
    "\n",
    "print('Los planetas que más lejos están del Sol que ' + seleccion_planeta + ' son: ')\n",
    "print(planets[0:planet_index])\n",
    "\n",
    "print('Los planetas que más cerca están al Sol que ' + seleccion_planeta + ' son: ')\n",
    "print(planets[planet_index + 1:])\n"
   ]
  }
 ],
 "metadata": {
  "interpreter": {
   "hash": "aee8b7b246df8f9039afb4144a1f6fd8d2ca17a180786b69acc140d282b71a49"
  },
  "kernelspec": {
   "display_name": "Python 3.9.10 64-bit",
   "language": "python",
   "name": "python3"
  },
  "language_info": {
   "codemirror_mode": {
    "name": "ipython",
    "version": 3
   },
   "file_extension": ".py",
   "mimetype": "text/x-python",
   "name": "python",
   "nbconvert_exporter": "python",
   "pygments_lexer": "ipython3",
   "version": "3.9.10"
  },
  "orig_nbformat": 4
 },
 "nbformat": 4,
 "nbformat_minor": 2
}
