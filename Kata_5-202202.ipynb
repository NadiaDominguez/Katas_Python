{
 "cells": [
  {
   "cell_type": "markdown",
   "metadata": {},
   "source": [
    "# Kata Módulo 5"
   ]
  },
  {
   "cell_type": "code",
   "execution_count": 7,
   "metadata": {},
   "outputs": [
    {
     "name": "stdout",
     "output_type": "stream",
     "text": [
      "628949330\n",
      "390577533.93\n"
     ]
    }
   ],
   "source": [
    "#Añadimos las variables con sus respectivos valores.\n",
    "\n",
    "Tierra = 149597870 #km\n",
    "Júpiter = 778547200 #km\n",
    "\n",
    "#Calculamos la distancia entre los planetas (el segundo menos el primero, en este caso. la distancia de Júpiter menos la de la Tierra)\n",
    "\n",
    "distancia = Júpiter - Tierra\n",
    "\n",
    "print(distancia)\n",
    "\n",
    "#Hacemos la conversión a millas (1 km 0.621 milla)\n",
    "print(distancia * 0.621)\n"
   ]
  },
  {
   "cell_type": "code",
   "execution_count": 16,
   "metadata": {},
   "outputs": [
    {
     "name": "stdout",
     "output_type": "stream",
     "text": [
      "50300000\n",
      "31236300.0\n"
     ]
    }
   ],
   "source": [
    "#Colocamos un input para poder introducir los valores al programa. Debido a que los ingresa como string, tenemos que convertirlos a \"int\"\n",
    "\n",
    "Primer_planeta = int(input(\"Introduce la distancia al sol del primer planeta\"))\n",
    "\n",
    "Segundo_planeta = int(input(\"Introduce la distancia al sol del segundo planeta\"))\n",
    "\n",
    "# Realizamos la operación de resta y convertimos a absoluto\n",
    "Distancia_km = abs(Segundo_planeta - Primer_planeta)\n",
    "\n",
    "#Convertimos el resultado a millas\n",
    "Distancia_millas = Distancia_km * 0.621\n",
    "\n",
    "#Imprimimos, los resultados, en consola\n",
    "print(Distancia_km)\n",
    "print(Distancia_millas)"
   ]
  }
 ],
 "metadata": {
  "interpreter": {
   "hash": "aee8b7b246df8f9039afb4144a1f6fd8d2ca17a180786b69acc140d282b71a49"
  },
  "kernelspec": {
   "display_name": "Python 3.9.10 64-bit",
   "language": "python",
   "name": "python3"
  },
  "language_info": {
   "codemirror_mode": {
    "name": "ipython",
    "version": 3
   },
   "file_extension": ".py",
   "mimetype": "text/x-python",
   "name": "python",
   "nbconvert_exporter": "python",
   "pygments_lexer": "ipython3",
   "version": "3.9.10"
  },
  "orig_nbformat": 4
 },
 "nbformat": 4,
 "nbformat_minor": 2
}
