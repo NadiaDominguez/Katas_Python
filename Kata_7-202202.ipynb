{
 "cells": [
  {
   "cell_type": "markdown",
   "metadata": {},
   "source": [
    "# Kata Módulo 7"
   ]
  },
  {
   "cell_type": "code",
   "execution_count": 7,
   "metadata": {},
   "outputs": [
    {
     "name": "stdout",
     "output_type": "stream",
     "text": [
      "Marte\n",
      "Júpiter\n",
      "Tierra\n"
     ]
    }
   ],
   "source": [
    "#Declaramos dos variables, llamadas \"new planet\" y \" planets\", el segundo será el que contendrá la lista de planetas que introduzcamos\n",
    "\n",
    "new_planet = ''\n",
    "planets = []\n",
    "\n",
    "#Creamos un bucle para que el programa nos solicite ingresar el nombre de un nuevo planeta, cada vez. \n",
    "while new_planet.lower() != 'fin': #Este ciclo, sólo se detendrá al colocar la palabra \"fin\"\n",
    "    if new_planet:\n",
    "        planets.append(new_planet)\n",
    "    new_planet = input('Introduzca un nuevo planeta, escribe la inicial con Mayúscula. Cuando termines de inresar tantos nombres quieras, introduce la palabra fin ')\n",
    "\n",
    "#Imprimimos en consola, los planetas que acabamos de introducir, en el órden en que fueron introducidos.\n",
    "for planet in planets:  \n",
    "    print(planet)"
   ]
  }
 ],
 "metadata": {
  "interpreter": {
   "hash": "aee8b7b246df8f9039afb4144a1f6fd8d2ca17a180786b69acc140d282b71a49"
  },
  "kernelspec": {
   "display_name": "Python 3.9.10 64-bit",
   "language": "python",
   "name": "python3"
  },
  "language_info": {
   "codemirror_mode": {
    "name": "ipython",
    "version": 3
   },
   "file_extension": ".py",
   "mimetype": "text/x-python",
   "name": "python",
   "nbconvert_exporter": "python",
   "pygments_lexer": "ipython3",
   "version": "3.9.10"
  },
  "orig_nbformat": 4
 },
 "nbformat": 4,
 "nbformat_minor": 2
}
