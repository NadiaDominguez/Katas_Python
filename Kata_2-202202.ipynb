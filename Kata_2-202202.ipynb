{
 "cells": [
  {
   "cell_type": "markdown",
   "metadata": {},
   "source": [
    "# Kata Módulo 2"
   ]
  },
  {
   "cell_type": "markdown",
   "metadata": {},
   "source": [
    "#Creando y activando el entorno virtual\n",
    "\n",
    "![MiImagen](src/img/Crea_activa_env-202202.png)\n",
    "\n",
    "#Aquí no muestra un \"(env), pero nos damos cuenta que estamos dentro del entorno virtual, porque ahora nos marca del lado derecho \"Py LaunchX\""
   ]
  },
  {
   "cell_type": "markdown",
   "metadata": {},
   "source": [
    "#Ejecutando \"pip freeze\", sin obtener resultado.\n",
    "\n",
    "![MiImagen](src/img/Pip_freeze-no_result-202202.png)"
   ]
  },
  {
   "cell_type": "markdown",
   "metadata": {},
   "source": [
    "#Instalando un paquete y ejecutando nuevamente \"pip freeze\" para ver mi lista de bibliotecas\n",
    "\n",
    "![MiImagen](src/img/Pip-install-freeze-202202.png)"
   ]
  },
  {
   "cell_type": "markdown",
   "metadata": {},
   "source": [
    "#Salimos de nuestro entorno virtual usando \"deactivate\", veremos que ahora, dejará de mostrarnos \"Py LaunchX\"\n",
    "\n",
    "![MiImagen](src/img/Env-deactivate-202202.png)"
   ]
  }
 ],
 "metadata": {
  "interpreter": {
   "hash": "b0fa6594d8f4cbf19f97940f81e996739fb7646882a419484c72d19e05852a7e"
  },
  "kernelspec": {
   "display_name": "Python 3.9.10 64-bit",
   "language": "python",
   "name": "python3"
  },
  "language_info": {
   "codemirror_mode": {
    "name": "ipython",
    "version": 3
   },
   "file_extension": ".py",
   "mimetype": "text/x-python",
   "name": "python",
   "nbconvert_exporter": "python",
   "pygments_lexer": "ipython3",
   "version": "3.9.10"
  },
  "orig_nbformat": 4
 },
 "nbformat": 4,
 "nbformat_minor": 2
}
