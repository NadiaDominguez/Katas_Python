{
 "cells": [
  {
   "cell_type": "markdown",
   "metadata": {},
   "source": [
    "# Kata Módulo 9"
   ]
  },
  {
   "cell_type": "code",
   "execution_count": 5,
   "metadata": {},
   "outputs": [
    {
     "name": "stdout",
     "output_type": "stream",
     "text": [
      "Informe de combustible:\n",
      "    Promedio de combustible: 30.0%\n",
      "    Tanque 1: 30%\n",
      "    Tanque 2: 40%\n",
      "    Tanque 3: 20% \n",
      "    \n"
     ]
    }
   ],
   "source": [
    "# Haremos un informe sobre la ubicación de las distintas fuentes de combustible que existen en el cohete.\n",
    "# Agregamos una función que lea 3 datos (en este caso los tanques de combustible).\n",
    "\n",
    "def combustible(tanque_1, tanque_2, tanque_3):\n",
    "#Tenemos que calcular el promedio\n",
    "    promedio = (tanque_1 + tanque_2 + tanque_3) / 3\n",
    "\n",
    "    return f\"\"\"Informe de combustible:\n",
    "    Promedio de combustible: {promedio}%\n",
    "    Tanque 1: {tanque_1}%\n",
    "    Tanque 2: {tanque_2}%\n",
    "    Tanque 3: {tanque_3}% \n",
    "    \"\"\"\n",
    "#Imprimimos el informe, asignando el contenido de cada tanque. De otra forma, nos marcará un error porque no están definidos.\n",
    "print(combustible(30, 40, 20))"
   ]
  },
  {
   "cell_type": "code",
   "execution_count": 23,
   "metadata": {},
   "outputs": [
    {
     "name": "stdout",
     "output_type": "stream",
     "text": [
      "\n",
      "    Nuestro destino es Júpiter\n",
      "    Tiempo total de vuelo: 1391 minutos\n",
      "    Combustible restante: 840000 gallones\n",
      "    \n",
      "\n",
      "    Destino: Saturno\n",
      "    Tiempo total de vuelo: 108 minutos\n",
      "    Combustible retante: 140000\n",
      "    \n",
      "\n",
      "    Destino Marte\n",
      "    Tiempo total de vuelo: 80 minutos\n",
      "    Combustible restante: 110000\n",
      "    el tanque interno contiene 40000 gallones restantes\n",
      "el tanque externo contiene 70000 gallones restantes\n",
      "\n"
     ]
    }
   ],
   "source": [
    "#Realizaremos otro informe del cohete, pero esta vez incluiremos otros datos.\n",
    "\n",
    "def informe_de_mision(hora_prelanzamiento, tiempo_vuelo, destino, tanque_externo, tanque_interno):\n",
    "    return f\"\"\"\n",
    "    Nuestro destino es {destino}\n",
    "    Tiempo total de vuelo: {hora_prelanzamiento + tiempo_vuelo} minutos\n",
    "    Combustible restante: {tanque_externo + tanque_interno} gallones\n",
    "    \"\"\"\n",
    "\n",
    "print(informe_de_mision(11, 1380, \"Júpiter\", 40000, 800000))\n",
    "\n",
    "# Escribe tu nueva función de reporte considerando lo anterior\n",
    "\n",
    "\n",
    "def reporte_mision(destino, *minutos, **combustible_reserva):\n",
    "    return f\"\"\"\n",
    "    Destino: {destino}\n",
    "    Tiempo total de vuelo: {sum(minutos)} minutos\n",
    "    Combustible retante: {sum(combustible_reserva.values())}\n",
    "    \"\"\"\n",
    "\n",
    "print(reporte_mision(\"Saturno\", 13, 15, 80, main=40000, external=100000))\n",
    "\n",
    "\n",
    "\n",
    "\n",
    "def reporte_mision(destino, *minutos, **reserva_combustible):\n",
    "    reporte_general = f\"\"\"\n",
    "    Destino {destino}\n",
    "    Tiempo total de vuelo: {sum(minutos)} minutos\n",
    "    Combustible restante: {sum(reserva_combustible.values())}\n",
    "    \"\"\"\n",
    "    for nombre_tanque, gallones in reserva_combustible.items():\n",
    "        reporte_general += f\"el tanque {nombre_tanque} contiene {gallones} gallones restantes\\n\"\n",
    "    return reporte_general\n",
    "\n",
    "print(reporte_mision(\"Marte\", 20, 15, 45, interno=40000, externo=70000))"
   ]
  }
 ],
 "metadata": {
  "interpreter": {
   "hash": "31f2aee4e71d21fbe5cf8b01ff0e069b9275f58929596ceb00d14d90e3e16cd6"
  },
  "kernelspec": {
   "display_name": "Python 3.8.9 64-bit",
   "language": "python",
   "name": "python3"
  },
  "language_info": {
   "codemirror_mode": {
    "name": "ipython",
    "version": 3
   },
   "file_extension": ".py",
   "mimetype": "text/x-python",
   "name": "python",
   "nbconvert_exporter": "python",
   "pygments_lexer": "ipython3",
   "version": "3.9.10"
  },
  "orig_nbformat": 4
 },
 "nbformat": 4,
 "nbformat_minor": 2
}
